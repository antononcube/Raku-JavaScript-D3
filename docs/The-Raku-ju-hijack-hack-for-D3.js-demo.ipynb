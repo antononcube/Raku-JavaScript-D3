{
 "cells": [
  {
   "cell_type": "markdown",
   "id": "ce25e4a8",
   "metadata": {},
   "source": [
    "# The [Raku-ju](https://raku.land/cpan:BDUGGAN/Jupyter::Kernel) hijack hack for [D3.js](https://d3js.org)\n",
    "\n",
    "\n",
    "## aka *[JavaScript::D3](https://raku.land/zef:antononcube/JavaScript::D3) demo*\n",
    "\n",
    "\n",
    "Anton Antonov  \n",
    "[RakuForPrediction at WordPress](https://rakuforprediction.wordpress.com)  \n",
    "December 2022"
   ]
  },
  {
   "cell_type": "markdown",
   "id": "8c728b9e",
   "metadata": {},
   "source": [
    "## Load packages\n",
    "Here we load some packages that are used to generate, summarize, and modify datasets:"
   ]
  },
  {
   "cell_type": "code",
   "execution_count": null,
   "id": "55b4f464",
   "metadata": {},
   "outputs": [],
   "source": [
    "use Data::Generators;\n",
    "use Data::Reshapers;\n",
    "use Data::Summarizers;\n",
    "use Data::ExampleDatasets;"
   ]
  },
  {
   "cell_type": "markdown",
   "id": "47db68c8",
   "metadata": {},
   "source": [
    "This loads the \"JavaScript::D3\" package:"
   ]
  },
  {
   "cell_type": "code",
   "execution_count": null,
   "id": "1636538e",
   "metadata": {},
   "outputs": [],
   "source": [
    "use JavaScript::D3;"
   ]
  },
  {
   "cell_type": "markdown",
   "id": "ac185103",
   "metadata": {},
   "source": [
    "## Setup\n",
    "Here we use a JavaScript cell that allows the visualization of with D3.js in Jupyter notebooks:"
   ]
  },
  {
   "cell_type": "code",
   "execution_count": null,
   "id": "62195fd0",
   "metadata": {},
   "outputs": [],
   "source": [
    "%% javascript\n",
    "require.config({\n",
    "     paths: {\n",
    "     d3: 'https://d3js.org/d3.v7.min'\n",
    "}});\n",
    "\n",
    "require(['d3'], function(d3) {\n",
    "     console.log(d3);\n",
    "});"
   ]
  },
  {
   "cell_type": "markdown",
   "id": "e436be6c",
   "metadata": {},
   "source": [
    "-------\n",
    "\n",
    "## Random data examples"
   ]
  },
  {
   "cell_type": "code",
   "execution_count": null,
   "id": "34fe6c66",
   "metadata": {},
   "outputs": [],
   "source": [
    "%%js\n",
    "js-d3-list-plot( (^120)>>.rand )"
   ]
  },
  {
   "cell_type": "code",
   "execution_count": null,
   "id": "9b9500c9",
   "metadata": {},
   "outputs": [],
   "source": [
    "%%js\n",
    "js-d3-list-line-plot( random-real(30, 1000) ):!grid-lines"
   ]
  },
  {
   "cell_type": "code",
   "execution_count": null,
   "id": "af4994a8",
   "metadata": {},
   "outputs": [],
   "source": [
    "%%js\n",
    "js-d3-list-plot(\n",
    "    transpose([random-real((100, 120),100), random-variate( NormalDistribution.new(12,19), 100)]), \n",
    "    x-axis-label=>'random-real', \n",
    "    y-axis-label=>'N[12,19]',\n",
    "    title=> 'Real 2D data')"
   ]
  },
  {
   "cell_type": "markdown",
   "id": "d7d43508",
   "metadata": {},
   "source": [
    "-----\n",
    "\n",
    "## Iris dataset"
   ]
  },
  {
   "cell_type": "code",
   "execution_count": null,
   "id": "b475c4c8",
   "metadata": {},
   "outputs": [],
   "source": [
    "my @dsIris = example-dataset( /iris $/);\n",
    "records-summary(@dsIris);\n",
    "@dsIris.&dimensions"
   ]
  },
  {
   "cell_type": "code",
   "execution_count": null,
   "id": "f38833aa",
   "metadata": {},
   "outputs": [],
   "source": [
    "%%js\n",
    "js-d3-histogram(@dsIris.map(*<Petal.Length>), title=>'Petal.Length')"
   ]
  },
  {
   "cell_type": "code",
   "execution_count": null,
   "id": "91934ab7",
   "metadata": {},
   "outputs": [],
   "source": [
    "%%js\n",
    "js-d3-list-plot(@dsIris.map({ ($_.<Petal.Length>, $_.<Petal.Width>) }), title=>'Petal')"
   ]
  },
  {
   "cell_type": "code",
   "execution_count": null,
   "id": "5d3c4f29",
   "metadata": {},
   "outputs": [],
   "source": [
    "%%js\n",
    "js-d3-list-plot(@dsIris.map({ %(x=>$_.<Petal.Length>, y=>$_.<Petal.Width>, group => $_<Species>) }), title=>'Petal'):legends"
   ]
  },
  {
   "cell_type": "markdown",
   "id": "d3f8ad88",
   "metadata": {},
   "source": [
    "-----\n",
    "\n",
    "## Air quality dataset"
   ]
  },
  {
   "cell_type": "code",
   "execution_count": null,
   "id": "3c54f15c",
   "metadata": {},
   "outputs": [],
   "source": [
    "my @dsAir = example-dataset('airquality');\n",
    "records-summary(@dsAir);\n",
    "@dsAir.&dimensions"
   ]
  },
  {
   "cell_type": "code",
   "execution_count": null,
   "id": "7b1d0651",
   "metadata": {},
   "outputs": [],
   "source": [
    "%%js\n",
    "js-d3-bubble-chart(select-columns(@dsAir, <Temp Wind Ozone>)>>.values>>.List, grid-lines=>12)"
   ]
  },
  {
   "cell_type": "code",
   "execution_count": null,
   "id": "336f5f55",
   "metadata": {},
   "outputs": [],
   "source": [
    "%%js\n",
    "js-d3-bubble-chart(\n",
    "rename-columns(select-columns(@dsAir, <Wind Temp Ozone Month>), (<Wind Temp Ozone Month> Z=> <x y z group>).Hash))"
   ]
  },
  {
   "cell_type": "markdown",
   "id": "1340be84",
   "metadata": {},
   "source": [
    "------\n",
    "\n",
    "## The execution loop"
   ]
  },
  {
   "cell_type": "markdown",
   "id": "7d5b9f25",
   "metadata": {},
   "source": [
    "[![](https://mermaid.ink/img/pako:eNptkT9vgzAQxb-KdXNo1L8DqrKUDulSKXTDGVy4NFaMsYwdCdl899pgVFp1we9-fvd0hx3UXYOQw5dm6kw-CioJIQd2sc7F7zhOYD8TCvF8_tS7N6sGg5pcUEsUFJIvYeeSWHAZCLuystZcmQRj1F4qa6ptlCQOQngE22Pqerdmuv_pnV3dxJPtBYV4vTJRRUEwKMsM7-QScsC-4L0SbKj-5mjsrTCkma-P6xVIdpPtiL_10-qpuvOr4t4vAybw4FPvPzmPwZzkk1_P9PtXkCwLlmWjuVqCUrXqhQ20qFvGm_CALiZRMGdskUIeZIMnFtajQOUYrMyarhxkDbnRFjdgVcMMFpyFp29nOH4DAJqztQ?type=png)](https://mermaid.live/edit#pako:eNptkT9vgzAQxb-KdXNo1L8DqrKUDulSKXTDGVy4NFaMsYwdCdl899pgVFp1we9-fvd0hx3UXYOQw5dm6kw-CioJIQd2sc7F7zhOYD8TCvF8_tS7N6sGg5pcUEsUFJIvYeeSWHAZCLuystZcmQRj1F4qa6ptlCQOQngE22Pqerdmuv_pnV3dxJPtBYV4vTJRRUEwKMsM7-QScsC-4L0SbKj-5mjsrTCkma-P6xVIdpPtiL_10-qpuvOr4t4vAybw4FPvPzmPwZzkk1_P9PtXkCwLlmWjuVqCUrXqhQ20qFvGm_CALiZRMGdskUIeZIMnFtajQOUYrMyarhxkDbnRFjdgVcMMFpyFp29nOH4DAJqztQ)"
   ]
  }
 ],
 "metadata": {
  "kernelspec": {
   "display_name": "RakuChatbook",
   "language": "raku",
   "name": "raku"
  },
  "language_info": {
   "file_extension": ".raku",
   "mimetype": "text/plain",
   "name": "raku",
   "version": "6.d"
  }
 },
 "nbformat": 4,
 "nbformat_minor": 5
}
