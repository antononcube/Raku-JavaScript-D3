{
 "cells": [
  {
   "cell_type": "markdown",
   "id": "7446ae9e",
   "metadata": {},
   "source": [
    "# Random Scribbles"
   ]
  },
  {
   "cell_type": "markdown",
   "id": "f051cbfa",
   "metadata": {},
   "source": [
    "------\n",
    "##  Setup"
   ]
  },
  {
   "cell_type": "code",
   "execution_count": null,
   "id": "8a7fc517",
   "metadata": {},
   "outputs": [],
   "source": [
    "use Data::ExampleDatasets;\n",
    "use JavaScript::D3;"
   ]
  },
  {
   "cell_type": "code",
   "execution_count": null,
   "id": "edaa5c75",
   "metadata": {},
   "outputs": [],
   "source": [
    "%%javascript\n",
    "require.config({\n",
    "     paths: {\n",
    "     d3: 'https://d3js.org/d3.v7.min'\n",
    "}});\n",
    "\n",
    "require(['d3'], function(d3) {\n",
    "     console.log(d3);\n",
    "});"
   ]
  },
  {
   "cell_type": "markdown",
   "id": "46205854",
   "metadata": {},
   "source": [
    "-------\n",
    "\n",
    "## Colors"
   ]
  },
  {
   "cell_type": "code",
   "execution_count": null,
   "id": "56fe3fe1",
   "metadata": {},
   "outputs": [],
   "source": [
    "my @dsColors=example-dataset(\"https://gist.githubusercontent.com/enjalot/7c0fe907ba2010fed420/raw/6f3c66f19b45a0ce4fda99a91783cae48318da4a/colors.csv\");\n",
    "my @colors = @dsColors.map(*<color>).sort"
   ]
  },
  {
   "cell_type": "markdown",
   "id": "df09a08f",
   "metadata": {},
   "source": [
    "---------\n",
    "\n",
    "## Scribbles"
   ]
  },
  {
   "cell_type": "code",
   "execution_count": null,
   "id": "ced9ae29",
   "metadata": {},
   "outputs": [],
   "source": [
    "%%js\n",
    "js-d3-random-scribble(rotation-angle=> -π/4, number-of-strokes=>300, stroke-width=>4, gradient-colors=><PeachPuff DeepPink>);"
   ]
  },
  {
   "cell_type": "code",
   "execution_count": null,
   "id": "7a0ed699",
   "metadata": {},
   "outputs": [],
   "source": [
    "%%js\n",
    "js-d3-random-scribble(rotation-angle=> Whatever, number-of-strokes=>[300, 249], stroke-width=>4, gradient-colors=><PeachPuff DeepPink>);"
   ]
  },
  {
   "cell_type": "code",
   "execution_count": null,
   "id": "1c965fa4",
   "metadata": {},
   "outputs": [],
   "source": [
    "%%js\n",
    "js-d3-random-scribble(\n",
    "count=>6,\n",
    "rotation-angle=> Whatever, number-of-strokes=>[300, 249], stroke-width=>4, gradient-colors=><FireBrick GreenYellow>);"
   ]
  }
 ],
 "metadata": {
  "kernelspec": {
   "display_name": "RakuChatbook",
   "language": "raku",
   "name": "raku"
  },
  "language_info": {
   "file_extension": ".raku",
   "mimetype": "text/plain",
   "name": "raku",
   "version": "6.d"
  }
 },
 "nbformat": 4,
 "nbformat_minor": 5
}
