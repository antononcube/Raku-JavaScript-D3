{
 "cells": [
  {
   "cell_type": "markdown",
   "id": "18ebfee9",
   "metadata": {},
   "source": [
    "# JavaScript::D3 \n",
    "\n",
    "Anton Antonov   \n",
    "[JavaScript::D3 Raku package](https://github.com/antononcube/Raku-JavaScript-D3)   \n",
    "December 2022"
   ]
  },
  {
   "cell_type": "markdown",
   "id": "3c5c9020",
   "metadata": {},
   "source": [
    "-----\n",
    "\n",
    "## Load packages"
   ]
  },
  {
   "cell_type": "markdown",
   "id": "72a38ef9",
   "metadata": {},
   "source": [
    "Here we load some packages that are used to generate, summarize, and modify datasets:"
   ]
  },
  {
   "cell_type": "code",
   "execution_count": null,
   "id": "33790f34",
   "metadata": {},
   "outputs": [],
   "source": [
    "use Data::Generators;\n",
    "use Data::Reshapers;\n",
    "use Data::Summarizers;\n",
    "use Data::ExampleDatasets;"
   ]
  },
  {
   "cell_type": "markdown",
   "id": "b45e79ad",
   "metadata": {},
   "source": [
    "This loads the [\"JavaScript::D3\"](https://github.com/antononcube/Raku-JavaScript-D3) package:"
   ]
  },
  {
   "cell_type": "code",
   "execution_count": null,
   "id": "a3889136",
   "metadata": {},
   "outputs": [],
   "source": [
    "use JavaScript::D3;"
   ]
  },
  {
   "cell_type": "markdown",
   "id": "5e109649",
   "metadata": {},
   "source": [
    "------\n",
    "\n",
    "## Setup\n",
    "\n",
    "Here we use a JavaScript cell that allows the visualization of with [D3.js](https://d3js.org) in Jupyter notebooks:\n"
   ]
  },
  {
   "cell_type": "code",
   "execution_count": null,
   "id": "1a68ef26",
   "metadata": {},
   "outputs": [],
   "source": [
    "%% javascript\n",
    "require.config({\n",
    "     paths: {\n",
    "     d3: 'https://d3js.org/d3.v7.min'\n",
    "}});\n",
    "\n",
    "require(['d3'], function(d3) {\n",
    "     console.log(d3);\n",
    "});"
   ]
  },
  {
   "cell_type": "markdown",
   "id": "0ce6e9d3",
   "metadata": {},
   "source": [
    "The code above can be obtained with the package function `js-d3-config`:"
   ]
  },
  {
   "cell_type": "code",
   "execution_count": null,
   "id": "8858ce09",
   "metadata": {},
   "outputs": [],
   "source": [
    "js-d3-config()"
   ]
  },
  {
   "cell_type": "markdown",
   "id": "5176af5d",
   "metadata": {},
   "source": [
    "Verify that a D3 plot is obtained via a JavaScript cell (taken from [SF1]):"
   ]
  },
  {
   "cell_type": "code",
   "execution_count": null,
   "id": "626c434f",
   "metadata": {},
   "outputs": [],
   "source": [
    "%%javascript\n",
    "(function(element) { require(['d3'], function(d3) {   \n",
    "        var data = [1, 2, 4, 8, 16, 8, 4, 2, 1]\n",
    "\n",
    "        var svg = d3.select(element.get(0)).append('svg')\n",
    "            .attr('width', 400)\n",
    "            .attr('height', 200);\n",
    "        svg.selectAll('circle')\n",
    "            .data(data)\n",
    "            .enter()\n",
    "            .append('circle')\n",
    "            .attr(\"cx\", function(d, i) {return 40 * (i + 1);})\n",
    "            .attr(\"cy\", function(d, i) {return 100 + 30 * (i % 3 - 1);})\n",
    "            .style(\"fill\", \"#1570a4\")\n",
    "            .transition().duration(2000)\n",
    "            .attr(\"r\", function(d) {return 2*d;})\n",
    "        ;\n",
    "}) })(element);"
   ]
  },
  {
   "cell_type": "markdown",
   "id": "1a26410f",
   "metadata": {},
   "source": [
    "-------\n",
    "\n",
    "## ListPlot"
   ]
  },
  {
   "cell_type": "code",
   "execution_count": null,
   "id": "0207c479",
   "metadata": {},
   "outputs": [],
   "source": [
    "%% > js\n",
    "say js-d3-list-plot(random-real(12,1000), height=>500, background=>'rgb(30,70,110)', color=>'yellow', title => \"Yellow points\");"
   ]
  },
  {
   "cell_type": "code",
   "execution_count": null,
   "id": "ca0beddf",
   "metadata": {},
   "outputs": [],
   "source": [
    "%% js\n",
    "my @ds2 = random-tabular-dataset(1200, <x y>, \n",
    "    generators=> { \n",
    "        x => { random-variate(NormalDistribution.new(30,12), $_)}, \n",
    "        y => { random-variate(NormalDistribution.new(800,70), $_)}});\n",
    "say dimensions(@ds2);\n",
    "\n",
    "js-d3-list-plot(@ds2, height=>500, background=>'white', color=>'orange');"
   ]
  },
  {
   "cell_type": "markdown",
   "id": "93b633c9",
   "metadata": {},
   "source": [
    "------\n",
    "\n",
    "## ListLinePlot\n",
    "\n",
    "### Single-line "
   ]
  },
  {
   "cell_type": "code",
   "execution_count": null,
   "id": "ca38aeae",
   "metadata": {},
   "outputs": [],
   "source": [
    "%% js\n",
    "js-d3-list-line-plot(@ds2.sort({ $_<x> }), \n",
    "height=>500, \n",
    "background=>'white', color=>'lightblue', \n",
    "title => \"List line plot\",\n",
    "x-axis-label=>'X coordinates',\n",
    "y-axis-label=>'Y coordinates',\n",
    "margins => %(top=>80, left=>60)\n",
    ");"
   ]
  },
  {
   "cell_type": "markdown",
   "id": "6a7c1e41",
   "metadata": {},
   "source": [
    "### Multi-line"
   ]
  },
  {
   "cell_type": "code",
   "execution_count": null,
   "id": "2a1168c3",
   "metadata": {},
   "outputs": [],
   "source": [
    "my @dsXYG = random-tabular-dataset(400, <x y group>,\n",
    "        generators => { x => { random-real(100, $_) },\n",
    "                        y => { random-real(10, $_) },\n",
    "                        group => <a b c d> });\n",
    "                        \n",
    "@dsXYG = @dsXYG.map( -> $r { given $r<group> {\n",
    "    when 'a' { $r<y> = 1.2*$r<x> + $r<y> }\n",
    "    when 'b' { $r<y> = 5*sqrt($r<x>) + $r<y>}\n",
    "    when 'c' { $r<y> = $r<y> - $r<x>/3 + 50 }\n",
    "  };\n",
    "  $r\n",
    "});\n",
    "say dimensions(@dsXYG);\n",
    "say deduce-type(@dsXYG);"
   ]
  },
  {
   "cell_type": "code",
   "execution_count": null,
   "id": "3d07ae72",
   "metadata": {},
   "outputs": [],
   "source": [
    "%%js\n",
    "js-d3-list-line-plot(@dsXYG.sort({ $_<x> }))"
   ]
  },
  {
   "cell_type": "markdown",
   "id": "a72ddc4b",
   "metadata": {},
   "source": [
    "-------\n",
    "\n",
    "##  Bar chart"
   ]
  },
  {
   "cell_type": "code",
   "execution_count": null,
   "id": "c666b27b",
   "metadata": {},
   "outputs": [],
   "source": [
    "my @dsTest2 = random-tabular-dataset(12, <Country Value>, generators=>{Country => <USA UK UA RU CH BG FR GE ES PL DK SW>, Value => { random-real(100, $_) } }  );\n",
    "records-summary(@dsTest2);\n",
    "dimensions(@dsTest2)"
   ]
  },
  {
   "cell_type": "code",
   "execution_count": null,
   "id": "ca502d09",
   "metadata": {},
   "outputs": [],
   "source": [
    "%% js\n",
    "rename-columns(@dsTest2, {Country => 'variable', Value => 'value'}) ==> js-d3-bar-chart(background => 'rgb(10, 10, 13)', color => 'rgb(160,70,70)')"
   ]
  },
  {
   "cell_type": "code",
   "execution_count": null,
   "id": "1fa78187",
   "metadata": {},
   "outputs": [],
   "source": [
    "%% js\n",
    "js-d3-bar-chart(random-real(120,45), width=>1000)"
   ]
  },
  {
   "cell_type": "code",
   "execution_count": null,
   "id": "40352b23",
   "metadata": {},
   "outputs": [],
   "source": [
    "my $k = 0;\n",
    "my @data = random-real([70, 120],5).map({ %(y => $_, x => $k++, group => 'a') });\n",
    "$k = 0;\n",
    "@data.append: random-real([50,60],5).map({ %(y => $_, x => $k++, group => 'b') });\n",
    "dimensions(@data)"
   ]
  },
  {
   "cell_type": "code",
   "execution_count": null,
   "id": "41315ab8",
   "metadata": {},
   "outputs": [],
   "source": [
    "#%html\n",
    "@data ==> to-html()"
   ]
  },
  {
   "cell_type": "code",
   "execution_count": null,
   "id": "5e9bf710",
   "metadata": {},
   "outputs": [],
   "source": [
    "#% js\n",
    "js-d3-bar-chart(@data, color-scheme => 'schemePastel1', title-color => 'Silver', width=>1000, background => 'none', :grid-lines)"
   ]
  },
  {
   "cell_type": "markdown",
   "id": "21a5ea72",
   "metadata": {},
   "source": [
    "------\n",
    "\n",
    "## Histogram"
   ]
  },
  {
   "cell_type": "code",
   "execution_count": null,
   "id": "1d3d21b0",
   "metadata": {},
   "outputs": [],
   "source": [
    "%% > js\n",
    "say js-d3-histogram(\n",
    "    random-variate(NormalDistribution.new(120,10), 500), \n",
    "    height=>500, \n",
    "    background=>'#2F2F2F', \n",
    "    title=>'Normal distribution example',\n",
    "    title-color => 'Silver',\n",
    "    x-axis-label=>'random value',\n",
    "    y-axis-label=>'counts', margins => {top=>120} );"
   ]
  },
  {
   "cell_type": "markdown",
   "id": "db37a5eb",
   "metadata": {},
   "source": [
    "------\n",
    "\n",
    "## Bubble chart"
   ]
  },
  {
   "cell_type": "code",
   "execution_count": null,
   "id": "071b2d02",
   "metadata": {},
   "outputs": [],
   "source": [
    "my $nPoints = 100;\n",
    "my @arr3d = transpose( (random-real(12, $nPoints), random-real(12, $nPoints), random-real(12, $nPoints)) );\n",
    "deduce-type(@arr3d)"
   ]
  },
  {
   "cell_type": "code",
   "execution_count": null,
   "id": "742f8a30",
   "metadata": {},
   "outputs": [],
   "source": [
    "%%js \n",
    "js-d3-bubble-chart(@arr3d, \n",
    "color=>'rgb(255,180,0)', \n",
    "background=>'rgb(50,56,65)', \n",
    "tooltip=>Whatever)"
   ]
  },
  {
   "cell_type": "code",
   "execution_count": null,
   "id": "048365d4",
   "metadata": {},
   "outputs": [],
   "source": [
    "my @ds3DGroups = random-tabular-dataset(100, <x y z group>, \n",
    "generators => { x => { random-real(20, $_) }, \n",
    "                y => { random-variate(NormalDistribution.new(200,50), $_) },\n",
    "                z => { random-variate(NormalDistribution.new(20,12), $_) },\n",
    "                group => <aspirin biscuit cookie>\n",
    "              } );\n",
    "records-summary(@ds3DGroups, field-names=><x y z group>);\n",
    "say deduce-type(@ds3DGroups);"
   ]
  },
  {
   "cell_type": "code",
   "execution_count": null,
   "id": "4085f6fb",
   "metadata": {},
   "outputs": [],
   "source": [
    "%%js\n",
    "js-d3-bubble-chart(@ds3DGroups, \n",
    "x-axis-label=>'x coordinates',\n",
    "y-axis-label=>'Normal distribution', \n",
    "plot-label=>'Bubble chart over groups',\n",
    "background=>'', \n",
    "margins => %(left=>60, top=>60),\n",
    "opacity=>0.5):tooltip:legends"
   ]
  },
  {
   "cell_type": "markdown",
   "id": "1fd04cf5",
   "metadata": {},
   "source": [
    "------\n",
    "\n",
    "## DateListPlot"
   ]
  },
  {
   "cell_type": "code",
   "execution_count": null,
   "id": "7e92cca5",
   "metadata": {},
   "outputs": [],
   "source": [
    "my $k=0;\n",
    "my @dsXY = (^1200)>>.rand>>.sqrt.map({ %(x=>$k++, y=>$_) });\n",
    "#records-summary(@dsXY);\n",
    "\n",
    "my $refDate = DateTime.new('2000-01-01');\n",
    "my @dsTS = @dsXY.map({ %( date => ($refDate + $_<x> * 10e4).DateTime, value => $_<y> ) });\n",
    "#records-summary(@dsTS);\n",
    "#say dimensions(@dsTS);\n",
    "\n",
    "my @dsTS2 = @dsTS.map({ %( date => $_<date>.Str.substr(0,10), value => $_<value>, group => <a b>.pick ) }).map({ if $_<group> eq 'a' { $_<value> *= -1 }; $_ });\n",
    "records-summary(@dsTS2);\n",
    "dimensions(@dsTS2)"
   ]
  },
  {
   "cell_type": "code",
   "execution_count": null,
   "id": "9e4bdd4a",
   "metadata": {},
   "outputs": [],
   "source": [
    "%% js\n",
    "js-d3-date-list-plot(@dsTS2, color-scheme => 'schemePastel1', background => '1F1F1F', width=>1000);"
   ]
  },
  {
   "cell_type": "markdown",
   "id": "f9fb6778",
   "metadata": {},
   "source": [
    "-------\n",
    "\n",
    "## References"
   ]
  },
  {
   "cell_type": "markdown",
   "id": "31831b59",
   "metadata": {},
   "source": [
    "### Articles\n",
    "\n",
    "[OV1] Olivia Vane, \n",
    "[\"D3 JavaScript visualisation in a Python Jupyter notebook\"](https://livingwithmachines.ac.uk/d3-javascript-visualisation-in-a-python-jupyter-notebook), \n",
    "(2020), \n",
    "[livingwithmachines.ac.uk](https://livingwithmachines.ac.uk).\n",
    "\n",
    "[SF1] Stefaan Lippens, \n",
    "[Custom D3.js Visualization in a Jupyter Notebook](https://www.stefaanlippens.net/jupyter-custom-d3-visualization.html), \n",
    "(2018), \n",
    "[stefaanlippens.net](https://www.stefaanlippens.net).\n",
    "\n",
    "### Packages\n",
    "\n",
    "[AAp1] Anton Antonov,\n",
    "[Data::Reshapers Raku package](https://raku.land/zef:antononcube/Data::Reshapers),\n",
    "(2021-2022),\n",
    "[GitHub/antononcube](https://github.com/antononcube/Raku-Data-Reshapers).\n",
    "\n",
    "[AAp2] Anton Antonov,\n",
    "[Text::Plot Raku package](https://raku.land/zef:antononcube/Text::Plot),\n",
    "(2022),\n",
    "[GitHub/antononcube](https://github.com/antononcube/Raku-Text-Plot).\n",
    "\n",
    "[BD1] Brian Duggan,\n",
    "[Jupyter::Kernel Raku package](https://raku.land/cpan:BDUGGAN/Jupyter::Kernel),\n",
    "(2017-2022),\n",
    "[GitHub/bduggan](https://github.com/bduggan/raku-jupyter-kernel).\n",
    "\n",
    "[MLp1] Moritz Lenz,\n",
    "[SVG::Plot Raku package](https://github.com/moritz/svg-plot)\n",
    "(2009-2018),\n",
    "[GitHub/moritz](https://github.com/moritz/svg-plot)."
   ]
  }
 ],
 "metadata": {
  "kernelspec": {
   "display_name": "RakuChatbook",
   "language": "raku",
   "name": "raku"
  },
  "language_info": {
   "file_extension": ".raku",
   "mimetype": "text/x-raku",
   "name": "raku",
   "version": "6.d"
  }
 },
 "nbformat": 4,
 "nbformat_minor": 5
}
