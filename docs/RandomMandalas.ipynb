{
 "cells": [
  {
   "cell_type": "markdown",
   "id": "7446ae9e",
   "metadata": {},
   "source": [
    "# Random Mandalas"
   ]
  },
  {
   "cell_type": "markdown",
   "id": "88ae016b",
   "metadata": {},
   "source": [
    "-------\n",
    "\n",
    "## Setup"
   ]
  },
  {
   "cell_type": "code",
   "execution_count": null,
   "id": "8a7fc517",
   "metadata": {},
   "outputs": [],
   "source": [
    "use Data::ExampleDatasets;\n",
    "use JavaScript::D3;"
   ]
  },
  {
   "cell_type": "code",
   "execution_count": null,
   "id": "edaa5c75",
   "metadata": {},
   "outputs": [],
   "source": [
    "%%javascript\n",
    "require.config({\n",
    "     paths: {\n",
    "     d3: 'https://d3js.org/d3.v7.min'\n",
    "}});\n",
    "\n",
    "require(['d3'], function(d3) {\n",
    "     console.log(d3);\n",
    "});"
   ]
  },
  {
   "cell_type": "markdown",
   "id": "4da06ced",
   "metadata": {},
   "source": [
    "------\n",
    "\n",
    "## Connecting functions\n",
    "\n",
    "<img src=\"https://static.packt-cdn.com/products/9781838645571/graphics/assets/31dcb229-2a2b-4cd3-a20a-5848fa2c6d4a.png\"  width=\"500\" height=\"500\">"
   ]
  },
  {
   "cell_type": "markdown",
   "id": "46205854",
   "metadata": {},
   "source": [
    "-------\n",
    "\n",
    "## Colors"
   ]
  },
  {
   "cell_type": "code",
   "execution_count": null,
   "id": "56fe3fe1",
   "metadata": {},
   "outputs": [],
   "source": [
    "my @dsColors=example-dataset(\"https://gist.githubusercontent.com/enjalot/7c0fe907ba2010fed420/raw/6f3c66f19b45a0ce4fda99a91783cae48318da4a/colors.csv\");\n",
    "my @colors = @dsColors.map(*<color>)"
   ]
  },
  {
   "cell_type": "markdown",
   "id": "b78eafa7",
   "metadata": {},
   "source": [
    "------\n",
    "\n",
    "## Mandalas"
   ]
  },
  {
   "cell_type": "code",
   "execution_count": null,
   "id": "d3445524",
   "metadata": {},
   "outputs": [],
   "source": [
    "%%js\n",
    "js-d3-random-mandala(\n",
    "count => 3,\n",
    "fill=>'silver', \n",
    "stroke=>'white', \n",
    "number-of-seed-elements=>Whatever,\n",
    "connecting-function=>Whatever, \n",
    "rotational-symmetry-order=>Whatever)"
   ]
  },
  {
   "cell_type": "code",
   "execution_count": null,
   "id": "3db4dca1",
   "metadata": {},
   "outputs": [],
   "source": [
    "%%js\n",
    "js-d3-random-mandala(\n",
    "count => 8,\n",
    "radius=>10,\n",
    "fill=><silver white LightSteelBlue>.pick, \n",
    "stroke=>'none', \n",
    "number-of-seed-elements=>(5..8), \n",
    "rotational-symmetry-order=>[4,6,7,9,12], \n",
    "connecting-function=><curveMonotoneX curveBundle curveBasis>.pick,\n",
    "margins=>10,\n",
    "symmetric-seed=> rand < 0.7)"
   ]
  },
  {
   "cell_type": "code",
   "execution_count": null,
   "id": "5bc18218",
   "metadata": {},
   "outputs": [],
   "source": [
    "%%js\n",
    "js-d3-random-mandala(\n",
    "count => 8,\n",
    "fill => <silver white LightSteelBlue PeachPuff>.pick, \n",
    "stroke=>'none', \n",
    "number-of-seed-elements=>(8..12).pick, \n",
    "rotational-symmetry-order=>[6,7,9].pick, \n",
    "connecting-function=>'curveLinear',\n",
    "margins=>10):symmetric-seed"
   ]
  },
  {
   "cell_type": "code",
   "execution_count": null,
   "id": "050c91b1",
   "metadata": {},
   "outputs": [],
   "source": [
    "%%js\n",
    "js-d3-random-mandala(fill=>'silver', stroke=>'white', rotational-symmetry-order=>6, connecting-function=>'curveBasisClosed', margins=>50):symmetric-seed:axes"
   ]
  },
  {
   "cell_type": "code",
   "execution_count": null,
   "id": "a67c2144",
   "metadata": {},
   "outputs": [],
   "source": [
    "%%js\n",
    "js-d3-random-mandala(fill=>'silver', stroke=>'white', number-of-seed-elements=>5, connecting-function=>'curveLinear', rotational-symmetry-order=>3.3):!symmetric-seed"
   ]
  },
  {
   "cell_type": "code",
   "execution_count": null,
   "id": "5521ef82",
   "metadata": {},
   "outputs": [],
   "source": [
    "%%js\n",
    "js-d3-random-mandala(\n",
    "count => 8,\n",
    "rotational-symmetry-order=>Whatever,\n",
    "fill=>'silver', \n",
    "stroke=>'black', \n",
    "number-of-seed-elements=>Whatever, \n",
    "connecting-function=>'Basis'):!symmetric-seed"
   ]
  }
 ],
 "metadata": {
  "kernelspec": {
   "display_name": "Raku",
   "language": "raku",
   "name": "raku"
  },
  "language_info": {
   "file_extension": ".raku",
   "mimetype": "text/plain",
   "name": "raku",
   "version": "6.d"
  }
 },
 "nbformat": 4,
 "nbformat_minor": 5
}
