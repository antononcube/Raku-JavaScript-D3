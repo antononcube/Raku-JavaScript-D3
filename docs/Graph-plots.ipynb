{
 "cells": [
  {
   "cell_type": "markdown",
   "metadata": {},
   "source": [
    "# Graph neat examples in Raku\n",
    "\n",
    "### ***Set 2***\n",
    "\n",
    "Anton Antonov   \n",
    "[RakuForPrediction at WordPress](https://rakuforprediction.wordpress.com)   \n",
    "[RakuForPrediction-book at GitHub](https://github.com/antononcube/RakuForPrediction-book)      \n",
    "July, November 2024   "
   ]
  },
  {
   "cell_type": "code",
   "execution_count": 1,
   "metadata": {},
   "outputs": [
    {
     "data": {
      "application/javascript": "require.config({\n     paths: {\n     d3: 'https://d3js.org/d3.v7.min'\n}});\n\nrequire(['d3'], function(d3) {\n     console.log(d3);\n});"
     },
     "execution_count": 1,
     "metadata": {},
     "output_type": "execute_result"
    }
   ],
   "source": [
    "%%javascript\n",
    "require.config({\n",
    "     paths: {\n",
    "     d3: 'https://d3js.org/d3.v7.min'\n",
    "}});\n",
    "\n",
    "require(['d3'], function(d3) {\n",
    "     console.log(d3);\n",
    "});"
   ]
  },
  {
   "cell_type": "code",
   "execution_count": 2,
   "metadata": {},
   "outputs": [
    {
     "data": {
      "application/javascript": "(function(element) { require(['d3'], function(d3) {\n\n// set the dimensions and margins of the graph\nvar margin = {\"left\":5,\"top\":5,\"right\":5,\"bottom\":5},\n    width = 1000 - margin.left - margin.right,\n    height = 300 - margin.top - margin.bottom;\n\n// append the svg object to the body of the page\nvar svg = d3\n   .select(element.get(0))\n  .append(\"svg\")\n    .attr(\"width\", width + margin.left + margin.right)\n    .attr(\"height\", height + margin.top + margin.bottom)\n    .style(\"background\", \"#1F1F1F\")\n  .append(\"g\")\n    .attr(\"transform\",\n          \"translate(\" + margin.left + \",\" + margin.top + \")\")\n\n// Obtain title\nvar title = \"\"\nvar titleFontSize = 16\n\nif ( title.length > 0 ) {\n    svg.append(\"text\")\n        .attr(\"x\", (width / 2))\n        .attr(\"y\", 0 - (margin.top / 2))\n        .attr(\"text-anchor\", \"middle\")\n        .style(\"font-size\", titleFontSize.toString() + \"px\")\n        .style(\"fill\", \"Black\")\n        .text(title);\n}\n\nconst edges = [{\"weight\":1,\"from\":\"14\",\"label\":\"\",\"to\":\"16\"},{\"from\":\"11\",\"weight\":1,\"to\":\"16\",\"label\":\"\"},{\"weight\":1,\"label\":\"\",\"from\":\"16\",\"to\":\"19\"},{\"weight\":1,\"from\":\"12\",\"to\":\"15\",\"label\":\"\"},{\"from\":\"13\",\"label\":\"\",\"weight\":1,\"to\":\"15\"},{\"to\":\"15\",\"weight\":1,\"from\":\"10\",\"label\":\"\"},{\"to\":\"18\",\"label\":\"\",\"from\":\"15\",\"weight\":1},{\"label\":\"\",\"weight\":1,\"from\":\"15\",\"to\":\"20\"},{\"to\":\"17\",\"label\":\"\",\"weight\":1,\"from\":\"15\"},{\"label\":\"\",\"to\":\"9\",\"weight\":1,\"from\":\"4\"},{\"from\":\"6\",\"to\":\"9\",\"label\":\"\",\"weight\":1},{\"weight\":1,\"label\":\"\",\"from\":\"12\",\"to\":\"9\"},{\"from\":\"11\",\"to\":\"9\",\"weight\":1,\"label\":\"\"},{\"to\":\"9\",\"label\":\"\",\"weight\":1,\"from\":\"14\"},{\"from\":\"7\",\"label\":\"\",\"to\":\"9\",\"weight\":1},{\"from\":\"2\",\"to\":\"4\",\"label\":\"\",\"weight\":1},{\"from\":\"0\",\"weight\":1,\"label\":\"\",\"to\":\"2\"},{\"weight\":1,\"to\":\"2\",\"from\":\"1\",\"label\":\"\"},{\"weight\":1,\"to\":\"6\",\"label\":\"\",\"from\":\"2\"},{\"weight\":1,\"to\":\"7\",\"label\":\"\",\"from\":\"4\"},{\"from\":\"4\",\"weight\":1,\"label\":\"\",\"to\":\"6\"},{\"weight\":1,\"to\":\"4\",\"label\":\"\",\"from\":\"1\"},{\"from\":\"3\",\"weight\":1,\"label\":\"\",\"to\":\"4\"},{\"from\":\"1\",\"label\":\"\",\"weight\":1,\"to\":\"3\"},{\"label\":\"\",\"from\":\"3\",\"to\":\"7\",\"weight\":1},{\"weight\":1,\"to\":\"5\",\"label\":\"\",\"from\":\"3\"},{\"weight\":1,\"label\":\"\",\"to\":\"19\",\"from\":\"17\"},{\"weight\":1,\"to\":\"19\",\"from\":\"14\",\"label\":\"\"},{\"from\":\"19\",\"weight\":1,\"to\":\"21\",\"label\":\"\"},{\"weight\":1,\"from\":\"17\",\"to\":\"21\",\"label\":\"\"},{\"to\":\"21\",\"weight\":1,\"from\":\"20\",\"label\":\"\"},{\"to\":\"23\",\"weight\":1,\"from\":\"21\",\"label\":\"\"},{\"from\":\"5\",\"weight\":1,\"label\":\"\",\"to\":\"7\"},{\"to\":\"7\",\"from\":\"10\",\"weight\":1,\"label\":\"\"},{\"weight\":1,\"to\":\"7\",\"from\":\"12\",\"label\":\"\"},{\"from\":\"14\",\"label\":\"\",\"to\":\"17\",\"weight\":1},{\"label\":\"\",\"from\":\"12\",\"weight\":1,\"to\":\"14\"},{\"to\":\"14\",\"weight\":1,\"label\":\"\",\"from\":\"11\"},{\"to\":\"22\",\"weight\":1,\"from\":\"20\",\"label\":\"\"},{\"to\":\"20\",\"weight\":1,\"from\":\"18\",\"label\":\"\"},{\"from\":\"20\",\"label\":\"\",\"to\":\"23\",\"weight\":1},{\"from\":\"17\",\"label\":\"\",\"weight\":1,\"to\":\"20\"},{\"to\":\"17\",\"label\":\"\",\"weight\":1,\"from\":\"12\"},{\"label\":\"\",\"from\":\"23\",\"to\":\"24\",\"weight\":1},{\"weight\":1,\"from\":\"22\",\"label\":\"\",\"to\":\"23\"},{\"to\":\"22\",\"from\":\"18\",\"label\":\"\",\"weight\":1},{\"from\":\"22\",\"label\":\"\",\"to\":\"24\",\"weight\":1},{\"from\":\"10\",\"label\":\"\",\"weight\":1,\"to\":\"12\"},{\"label\":\"\",\"from\":\"10\",\"to\":\"5\",\"weight\":1},{\"to\":\"13\",\"from\":\"10\",\"weight\":1,\"label\":\"\"},{\"to\":\"8\",\"weight\":1,\"from\":\"10\",\"label\":\"\"},{\"to\":\"8\",\"from\":\"5\",\"weight\":1,\"label\":\"\"},{\"to\":\"6\",\"from\":\"11\",\"weight\":1,\"label\":\"\"},{\"from\":\"13\",\"to\":\"18\",\"weight\":1,\"label\":\"\"},{\"weight\":1,\"label\":\"\",\"to\":\"1\",\"from\":\"0\"},{\"from\":\"13\",\"weight\":1,\"to\":\"8\",\"label\":\"\"}];\n\nconst nodes = Array.from(new Set(edges.flatMap(e => [e.from, e.to])), id => ({id}));\n\nconst highlightSpecs = {\"#f29838\":[\"1\",\"11\",\"13\",\"18\",\"19\",\"2\",\"21\",\"22\",\"23\",\"3\",\"5\",\"6\"],\"#faba8c\":[\"10\",\"12\",\"14\",\"15\",\"17\",\"20\",\"4\",\"7\",\"9\"],\"#a71c00\":[\"0\",\"24\"],\"#feffdb\":[\"16\",\"8\"]};\n\nconst links = edges.map(e => ({\n  source: e.from,\n  target: e.to,\n  weight: e.weight,\n  label: e.label,\n}));\n\n//.force(\"link\", d3.forceLink(links).id(d => d.id).distance(d => Math.max(d.weight * 20, 10 * 4)))\nconst simulation = d3.forceSimulation(nodes)\n    .force(\"link\", d3.forceLink(links).id(d => d.id).iterations(1))\n    .force(\"charge\", d3.forceManyBody().strength(-300).distanceMin(1).distanceMax(2000))\n    .force(\"x\", d3.forceX())\n    .force(\"y\", d3.forceY().strength(0.2))\n    .force(\"collision\", d3.forceCollide())\n    .force(\"center\", d3.forceCenter(width / 2, height / 2));\n\nsvg.append('defs').append('marker')\n    .attr(\"id\",'arrowhead')\n    .attr('viewBox','-0 -5 10 10') //the bound of the SVG viewport for the current SVG fragment. defines a coordinate system 10 wide and 10 high starting on (0,-5)\n     .attr('refX', 20) // x coordinate for the reference point of the marker. If circle is bigger, this need to be bigger.\n     .attr('refY',0)\n     .attr('orient','auto')\n        .attr('markerWidth', 5)\n        .attr('markerHeight', 5)\n        .attr('xoverflow','visible')\n    .append('svg:path')\n    .attr('d', 'M 0,-5 L 10 ,0 L 0,5')\n    .attr('fill', \"SteelBlue\")\n    .style('stroke','none');\n\nconst link = svg.append(\"g\")\n    .attr(\"class\", \"links\")\n  .selectAll(\"line\")\n  .data(links)\n  .enter().append(\"line\")\n    .attr(\"class\", \"link\")\n    .attr(\"stroke\", d => {\n        for (const [color, items] of Object.entries(highlightSpecs)) {\n            if (items.some(item => Array.isArray(item) && item[0] === d.source.id && item[1] === d.target.id)) {\n                return color;\n            }\n        }\n        return \"SteelBlue\";\n    })\n    .attr(\"stroke-width\", 3)\n    \n\nconst node = svg.append(\"g\")\n    .attr(\"class\", \"nodes\")\n  .selectAll(\"circle\")\n  .data(nodes)\n  .enter().append(\"circle\")\n    .attr(\"class\", \"node\")\n    .attr(\"r\", 10)\n    .attr(\"stroke\", d => {\n       for (const [color, items] of Object.entries(highlightSpecs)) {\n         if (items.includes(d.id)) {\n            return color;\n         }\n       }\n       return \"SteelBlue\";\n    })\n    .attr(\"fill\", d => {\n       for (const [color, items] of Object.entries(highlightSpecs)) {\n         if (items.includes(d.id)) {\n            return color;\n         }\n       }\n       return \"SteelBlue\";\n    })\n    .call(drag(simulation));\n\nnode.append(\"title\")\n    .text(d => d.id);\n\nconst nodeLabel = svg.append(\"g\")\n    .attr(\"class\", \"node-labels\")\n  .selectAll(\"text\")\n  .data(nodes)\n  .enter().append(\"text\")\n    .attr(\"class\", \"node-label\")\n    .style(\"font-size\", 13)\n    .attr(\"font-family\", \"Courier New\")\n    .attr(\"font-weight\", 100)\n    .attr(\"dy\", -10)\n    .attr('fill', \"none\")\n    .attr('stroke', \"none\")\n    .text(d => d.id);\n\nconst linkLabel = svg.append(\"g\")\n    .attr(\"class\", \"link-labels\")\n  .selectAll(\"text\")\n  .data(links)\n  .enter().append(\"text\")\n    .filter(d => d.label !== \"\")\n    .attr(\"class\", \"link-label\")\n    .style(\"font-size\", 13)\n    .attr(\"font-family\", \"Courier\")\n    .attr('fill', \"none\")\n    .attr('stroke', \"none\")\n    .text(d => d.label);\n\nsimulation.on(\"tick\", () => {\n  link\n      .attr(\"x1\", d => d.source.x)\n      .attr(\"y1\", d => d.source.y)\n      .attr(\"x2\", d => d.target.x)\n      .attr(\"y2\", d => d.target.y);\n\n  node\n      .attr(\"cx\", d => d.x)\n      .attr(\"cy\", d => d.y);\n\n  nodeLabel\n      .attr(\"x\", d => d.x)\n      .attr(\"y\", d => d.y);\n\n  linkLabel\n      .attr(\"x\", d => (d.source.x + d.target.x) / 2)\n      .attr(\"y\", d => (d.source.y + d.target.y) / 2);\n});\n\nfunction drag(simulation) {\n  function dragstarted(event, d) {\n    if (!event.active) simulation.alphaTarget(0.3).restart();\n    d.fx = d.x;\n    d.fy = d.y;\n  }\n\n  function dragged(event, d) {\n    d.fx = event.x;\n    d.fy = event.y;\n  }\n\n  function dragended(event, d) {\n    if (!event.active) simulation.alphaTarget(0);\n    d.fx = null;\n    d.fy = null;\n  }\n\n  return d3.drag()\n      .on(\"start\", dragstarted)\n      .on(\"drag\", dragged)\n      .on(\"end\", dragended);\n}\n\n}) })(element);\n"
     },
     "execution_count": 2,
     "metadata": {},
     "output_type": "execute_result"
    }
   ],
   "source": [
    "#% js\n",
    " use Graph::TriangularGrid;\n",
    " use JavaScript::D3;\n",
    " \n",
    " my $g = Graph::TriangularGrid.new(4, 4);\n",
    " my @highlight = ($g.vertex-list Z=> $g.vertex-degree).classify(*.value).map({ $_.value».key });\n",
    "\n",
    "\n",
    "  js-d3-graph-plot( $g.edges(:dataset),\n",
    "        :@highlight,\n",
    "        background => '#1F1F1F', \n",
    "        edge-thickness => 3,\n",
    "        vertex-size => 10,\n",
    "        vertex-label-color => 'none',\n",
    "        width => 1000,\n",
    "        height => 300, \n",
    "        margins => 5,\n",
    "        edge-color => 'SteelBlue',\n",
    "        force => {charge => {strength => -300}, y => {strength => 0.2}, link => {minDistance => 4}}\n",
    "    ) "
   ]
  },
  {
   "cell_type": "code",
   "execution_count": 3,
   "metadata": {},
   "outputs": [
    {
     "data": {
      "application/javascript": "(function(element) { require(['d3'], function(d3) {\n\n// set the dimensions and margins of the graph\nvar margin = {\"right\":80,\"top\":40,\"left\":2,\"bottom\":2},\n    width = 380 - margin.left - margin.right,\n    height = 300 - margin.top - margin.bottom;\n\n// append the svg object to the body of the page\nvar svg = d3\n   .select(element.get(0))\n  .append(\"svg\")\n    .attr(\"width\", width + margin.left + margin.right)\n    .attr(\"height\", height + margin.top + margin.bottom)\n    .style(\"background\", \"#1F1F1F\")\n  .append(\"g\")\n    .attr(\"transform\",\n          \"translate(\" + margin.left + \",\" + margin.top + \")\")\n\n// Obtain title\nvar title = \"Adjacency matrix\"\nvar titleFontSize = 16\n\nif ( title.length > 0 ) {\n    svg.append(\"text\")\n        .attr(\"x\", (width / 2))\n        .attr(\"y\", 0 - (margin.top / 2))\n        .attr(\"text-anchor\", \"middle\")\n        .style(\"font-size\", titleFontSize.toString() + \"px\")\n        .style(\"fill\", \"Silver\")\n        .text(title);\n}\n\n// Obtain data\nvar data = [{\"x\":1,\"z\":1,\"y\":0},{\"z\":1,\"x\":12,\"y\":0},{\"y\":1,\"x\":0,\"z\":1},{\"z\":1,\"y\":1,\"x\":12},{\"x\":18,\"z\":1,\"y\":1},{\"x\":19,\"z\":1,\"y\":1},{\"z\":1,\"y\":2,\"x\":4},{\"z\":1,\"y\":2,\"x\":5},{\"y\":2,\"z\":1,\"x\":7},{\"x\":20,\"y\":2,\"z\":1},{\"z\":1,\"y\":2,\"x\":22},{\"x\":23,\"y\":2,\"z\":1},{\"x\":6,\"y\":3,\"z\":1},{\"y\":3,\"z\":1,\"x\":8},{\"y\":3,\"z\":1,\"x\":21},{\"x\":24,\"y\":3,\"z\":1},{\"z\":1,\"y\":4,\"x\":2},{\"x\":6,\"z\":1,\"y\":4},{\"z\":1,\"x\":7,\"y\":4},{\"z\":1,\"x\":9,\"y\":4},{\"z\":1,\"y\":4,\"x\":22},{\"x\":24,\"z\":1,\"y\":4},{\"y\":5,\"x\":2,\"z\":1},{\"y\":5,\"z\":1,\"x\":7},{\"z\":1,\"x\":10,\"y\":5},{\"x\":23,\"y\":5,\"z\":1},{\"x\":3,\"z\":1,\"y\":6},{\"z\":1,\"y\":6,\"x\":4},{\"x\":8,\"y\":6,\"z\":1},{\"y\":6,\"z\":1,\"x\":9},{\"x\":11,\"y\":6,\"z\":1},{\"x\":24,\"z\":1,\"y\":6},{\"x\":2,\"z\":1,\"y\":7},{\"z\":1,\"y\":7,\"x\":4},{\"z\":1,\"x\":5,\"y\":7},{\"y\":7,\"z\":1,\"x\":9},{\"x\":10,\"z\":1,\"y\":7},{\"y\":7,\"z\":1,\"x\":13},{\"y\":8,\"z\":1,\"x\":3},{\"z\":1,\"x\":6,\"y\":8},{\"z\":1,\"x\":11,\"y\":8},{\"z\":1,\"x\":4,\"y\":9},{\"x\":6,\"z\":1,\"y\":9},{\"x\":7,\"z\":1,\"y\":9},{\"x\":11,\"y\":9,\"z\":1},{\"y\":9,\"z\":1,\"x\":13},{\"y\":9,\"z\":1,\"x\":14},{\"y\":10,\"x\":5,\"z\":1},{\"x\":7,\"z\":1,\"y\":10},{\"y\":10,\"z\":1,\"x\":13},{\"x\":15,\"y\":10,\"z\":1},{\"z\":1,\"y\":11,\"x\":6},{\"z\":1,\"y\":11,\"x\":8},{\"y\":11,\"z\":1,\"x\":9},{\"x\":14,\"y\":11,\"z\":1},{\"z\":1,\"y\":12,\"x\":0},{\"z\":1,\"x\":1,\"y\":12},{\"x\":19,\"z\":1,\"y\":12},{\"x\":21,\"y\":12,\"z\":1},{\"y\":13,\"x\":7,\"z\":1},{\"y\":13,\"z\":1,\"x\":9},{\"z\":1,\"y\":13,\"x\":10},{\"y\":13,\"x\":14,\"z\":1},{\"y\":13,\"z\":1,\"x\":15},{\"z\":1,\"x\":16,\"y\":13},{\"z\":1,\"x\":9,\"y\":14},{\"x\":11,\"y\":14,\"z\":1},{\"x\":13,\"z\":1,\"y\":14},{\"x\":16,\"y\":14,\"z\":1},{\"z\":1,\"y\":15,\"x\":10},{\"y\":15,\"x\":13,\"z\":1},{\"y\":15,\"z\":1,\"x\":16},{\"z\":1,\"x\":17,\"y\":15},{\"z\":1,\"y\":16,\"x\":13},{\"z\":1,\"x\":14,\"y\":16},{\"x\":15,\"y\":16,\"z\":1},{\"z\":1,\"y\":16,\"x\":17},{\"x\":15,\"z\":1,\"y\":17},{\"y\":17,\"z\":1,\"x\":16},{\"y\":18,\"z\":1,\"x\":1},{\"z\":1,\"y\":18,\"x\":19},{\"z\":1,\"x\":20,\"y\":18},{\"y\":18,\"x\":22,\"z\":1},{\"x\":1,\"z\":1,\"y\":19},{\"z\":1,\"y\":19,\"x\":12},{\"z\":1,\"y\":19,\"x\":18},{\"y\":19,\"x\":21,\"z\":1},{\"z\":1,\"y\":19,\"x\":22},{\"y\":19,\"x\":24,\"z\":1},{\"z\":1,\"y\":20,\"x\":2},{\"z\":1,\"x\":18,\"y\":20},{\"y\":20,\"z\":1,\"x\":22},{\"x\":23,\"z\":1,\"y\":20},{\"y\":21,\"z\":1,\"x\":3},{\"y\":21,\"x\":12,\"z\":1},{\"z\":1,\"x\":19,\"y\":21},{\"y\":21,\"z\":1,\"x\":24},{\"y\":22,\"z\":1,\"x\":2},{\"z\":1,\"y\":22,\"x\":4},{\"z\":1,\"x\":18,\"y\":22},{\"z\":1,\"y\":22,\"x\":19},{\"y\":22,\"z\":1,\"x\":20},{\"x\":24,\"z\":1,\"y\":22},{\"z\":1,\"x\":2,\"y\":23},{\"x\":5,\"z\":1,\"y\":23},{\"x\":20,\"y\":23,\"z\":1},{\"x\":3,\"z\":1,\"y\":24},{\"z\":1,\"x\":4,\"y\":24},{\"z\":1,\"x\":6,\"y\":24},{\"y\":24,\"z\":1,\"x\":19},{\"x\":21,\"y\":24,\"z\":1},{\"z\":1,\"x\":22,\"y\":24}];\n\nvar myGroups = [];\nvar myVars = [];\n\nif (myGroups.length === 0) {\n    myGroups = Array.from(new Set(data.map(d => d.x)));\n}\nif (myVars.length === 0) {\n    myVars = Array.from(new Set(data.map(d => d.y)));\n}\n\nif (true) {\n    myGroups = myGroups.sort(d3.ascending);\n    myVars = myVars.sort(d3.ascending);\n}\n\n// Build X scales and axis:\nvar x = d3.scaleBand()\n    .range([0, width])\n    .domain(myGroups)\n    .padding(0.05);\n\nsvg.append(\"g\")\n    .style(\"font-size\", \"10px\")\n    .style(\"stroke\", \"Black\")\n    .style(\"stroke-width\", \"1px\")\n    .attr(\"font-family\", \"Helvetica\")\n    .attr(\"transform\", `translate(0, ${height})`)\n    .call(d3.axisBottom(x).tickSize(0))\n    .select(\".domain\").remove();\n\n// Build Y scales and axis:\nvar y = d3.scaleBand()\n    .range([0, height])\n    .domain(myVars)\n    .padding(0.05);\n\nsvg.append(\"g\")\n    .style(\"font-size\", \"10px\")\n    .style(\"stroke\", \"Black\")\n    .style(\"stroke-width\", \"1px\")\n    .attr(\"font-family\", \"Helvetica\")\n    .call(d3.axisLeft(y).tickSize(0))\n    .select(\".domain\").remove();\n\n// Build color scale\nvar myColor = d3.scaleSequential()\n    .interpolator(d3.interpolateBlues)\n    .domain([1, 1]);\n\n\n\n// add the squares\nsvg.selectAll()\n    .data(data, d => d.x + ':' + d.y)\n    .join(\"rect\")\n    .attr(\"x\", d => x(d.x))\n    .attr(\"y\", d => y(d.y))\n    .attr(\"rx\", 4)\n    .attr(\"ry\", 4)\n    .attr(\"width\", x.bandwidth())\n    .attr(\"height\", y.bandwidth())\n    .style(\"fill\", d => myColor(d.z))\n    .style(\"stroke-width\", 4)\n    .style(\"stroke\", \"none\")\n    .style(\"opacity\", 0.7)\n    \n    \n    ;\n\n// add the grid\nif ( false) {\n    svg.selectAll()\n        .data(data, d => d.x + ':' + d.y)\n        .join(\"rect\")\n        .attr(\"x\", d => x(d.x))\n        .attr(\"y\", d => y(d.y))\n        .attr(\"rx\", 0)\n        .attr(\"ry\", 0)\n        .attr(\"width\", x.bandwidth())\n        .attr(\"height\", y.bandwidth())\n        .style(\"fill\", \"none\")\n        .style(\"stroke-width\", 1)\n        .style(\"stroke\", \"Gray\")\n        .style(\"opacity\", 1)\n}\n\n}) })(element);\n(function(element) { require(['d3'], function(d3) {\n\n// set the dimensions and margins of the graph\nvar margin = {\"top\":40,\"right\":2,\"bottom\":2,\"left\":2},\n    width = 600 - margin.left - margin.right,\n    height = 300 - margin.top - margin.bottom;\n\n// append the svg object to the body of the page\nvar svg = d3\n   .select(element.get(0))\n  .append(\"svg\")\n    .attr(\"width\", width + margin.left + margin.right)\n    .attr(\"height\", height + margin.top + margin.bottom)\n    .style(\"background\", \"#1F1F1F\")\n  .append(\"g\")\n    .attr(\"transform\",\n          \"translate(\" + margin.left + \",\" + margin.top + \")\")\n\n// Obtain title\nvar title = \"Incidence matrix\"\nvar titleFontSize = 16\n\nif ( title.length > 0 ) {\n    svg.append(\"text\")\n        .attr(\"x\", (width / 2))\n        .attr(\"y\", 0 - (margin.top / 2))\n        .attr(\"text-anchor\", \"middle\")\n        .style(\"font-size\", titleFontSize.toString() + \"px\")\n        .style(\"fill\", \"Silver\")\n        .text(title);\n}\n\n// Obtain data\nvar data = [{\"x\":0,\"z\":1,\"y\":0},{\"z\":1,\"x\":1,\"y\":0},{\"z\":1,\"x\":0,\"y\":1},{\"y\":1,\"z\":1,\"x\":2},{\"y\":1,\"x\":3,\"z\":1},{\"y\":1,\"x\":4,\"z\":1},{\"z\":1,\"y\":2,\"x\":5},{\"y\":2,\"z\":1,\"x\":6},{\"x\":7,\"z\":1,\"y\":2},{\"z\":1,\"x\":8,\"y\":2},{\"x\":9,\"y\":2,\"z\":1},{\"z\":1,\"y\":2,\"x\":10},{\"z\":1,\"y\":3,\"x\":11},{\"x\":12,\"z\":1,\"y\":3},{\"y\":3,\"x\":13,\"z\":1},{\"x\":14,\"y\":3,\"z\":1},{\"y\":4,\"z\":1,\"x\":5},{\"y\":4,\"x\":15,\"z\":1},{\"z\":1,\"y\":4,\"x\":16},{\"y\":4,\"x\":17,\"z\":1},{\"x\":18,\"z\":1,\"y\":4},{\"x\":19,\"z\":1,\"y\":4},{\"y\":5,\"z\":1,\"x\":6},{\"x\":20,\"y\":5,\"z\":1},{\"x\":21,\"z\":1,\"y\":5},{\"y\":5,\"z\":1,\"x\":22},{\"x\":11,\"y\":6,\"z\":1},{\"x\":15,\"z\":1,\"y\":6},{\"z\":1,\"x\":23,\"y\":6},{\"y\":6,\"z\":1,\"x\":24},{\"x\":25,\"y\":6,\"z\":1},{\"z\":1,\"x\":26,\"y\":6},{\"x\":7,\"z\":1,\"y\":7},{\"y\":7,\"x\":16,\"z\":1},{\"y\":7,\"x\":20,\"z\":1},{\"x\":27,\"z\":1,\"y\":7},{\"y\":7,\"x\":28,\"z\":1},{\"y\":7,\"x\":29,\"z\":1},{\"y\":8,\"z\":1,\"x\":12},{\"y\":8,\"x\":23,\"z\":1},{\"x\":30,\"y\":8,\"z\":1},{\"x\":17,\"z\":1,\"y\":9},{\"y\":9,\"x\":24,\"z\":1},{\"x\":27,\"y\":9,\"z\":1},{\"x\":31,\"z\":1,\"y\":9},{\"x\":32,\"y\":9,\"z\":1},{\"x\":33,\"y\":9,\"z\":1},{\"x\":21,\"z\":1,\"y\":10},{\"z\":1,\"x\":28,\"y\":10},{\"x\":34,\"z\":1,\"y\":10},{\"y\":10,\"x\":35,\"z\":1},{\"y\":11,\"x\":25,\"z\":1},{\"z\":1,\"x\":30,\"y\":11},{\"z\":1,\"x\":31,\"y\":11},{\"x\":36,\"z\":1,\"y\":11},{\"z\":1,\"y\":12,\"x\":1},{\"z\":1,\"y\":12,\"x\":2},{\"x\":37,\"z\":1,\"y\":12},{\"y\":12,\"x\":38,\"z\":1},{\"y\":13,\"z\":1,\"x\":29},{\"z\":1,\"x\":32,\"y\":13},{\"z\":1,\"x\":34,\"y\":13},{\"x\":39,\"z\":1,\"y\":13},{\"x\":40,\"z\":1,\"y\":13},{\"z\":1,\"y\":13,\"x\":41},{\"y\":14,\"z\":1,\"x\":33},{\"y\":14,\"z\":1,\"x\":36},{\"y\":14,\"z\":1,\"x\":39},{\"x\":42,\"z\":1,\"y\":14},{\"y\":15,\"x\":35,\"z\":1},{\"x\":40,\"z\":1,\"y\":15},{\"z\":1,\"y\":15,\"x\":43},{\"z\":1,\"y\":15,\"x\":44},{\"x\":41,\"y\":16,\"z\":1},{\"x\":42,\"y\":16,\"z\":1},{\"x\":43,\"z\":1,\"y\":16},{\"y\":16,\"x\":45,\"z\":1},{\"x\":44,\"z\":1,\"y\":17},{\"y\":17,\"x\":45,\"z\":1},{\"x\":3,\"y\":18,\"z\":1},{\"z\":1,\"x\":46,\"y\":18},{\"y\":18,\"x\":47,\"z\":1},{\"y\":18,\"z\":1,\"x\":48},{\"y\":19,\"z\":1,\"x\":4},{\"x\":37,\"y\":19,\"z\":1},{\"z\":1,\"x\":46,\"y\":19},{\"z\":1,\"x\":49,\"y\":19},{\"y\":19,\"x\":50,\"z\":1},{\"z\":1,\"x\":51,\"y\":19},{\"y\":20,\"x\":8,\"z\":1},{\"x\":47,\"z\":1,\"y\":20},{\"z\":1,\"x\":52,\"y\":20},{\"y\":20,\"z\":1,\"x\":53},{\"z\":1,\"x\":13,\"y\":21},{\"x\":38,\"z\":1,\"y\":21},{\"y\":21,\"x\":49,\"z\":1},{\"z\":1,\"x\":54,\"y\":21},{\"y\":22,\"x\":9,\"z\":1},{\"y\":22,\"x\":18,\"z\":1},{\"y\":22,\"x\":48,\"z\":1},{\"x\":50,\"y\":22,\"z\":1},{\"y\":22,\"z\":1,\"x\":52},{\"x\":55,\"y\":22,\"z\":1},{\"x\":10,\"y\":23,\"z\":1},{\"z\":1,\"y\":23,\"x\":22},{\"y\":23,\"x\":53,\"z\":1},{\"x\":14,\"z\":1,\"y\":24},{\"y\":24,\"x\":19,\"z\":1},{\"x\":26,\"y\":24,\"z\":1},{\"y\":24,\"x\":51,\"z\":1},{\"x\":54,\"z\":1,\"y\":24},{\"x\":55,\"y\":24,\"z\":1}];\n\nvar myGroups = [];\nvar myVars = [];\n\nif (myGroups.length === 0) {\n    myGroups = Array.from(new Set(data.map(d => d.x)));\n}\nif (myVars.length === 0) {\n    myVars = Array.from(new Set(data.map(d => d.y)));\n}\n\nif (true) {\n    myGroups = myGroups.sort(d3.ascending);\n    myVars = myVars.sort(d3.ascending);\n}\n\n// Build X scales and axis:\nvar x = d3.scaleBand()\n    .range([0, width])\n    .domain(myGroups)\n    .padding(0.05);\n\nsvg.append(\"g\")\n    .style(\"font-size\", \"10px\")\n    .style(\"stroke\", \"Black\")\n    .style(\"stroke-width\", \"1px\")\n    .attr(\"font-family\", \"Helvetica\")\n    .attr(\"transform\", `translate(0, ${height})`)\n    .call(d3.axisBottom(x).tickSize(0))\n    .select(\".domain\").remove();\n\n// Build Y scales and axis:\nvar y = d3.scaleBand()\n    .range([0, height])\n    .domain(myVars)\n    .padding(0.05);\n\nsvg.append(\"g\")\n    .style(\"font-size\", \"10px\")\n    .style(\"stroke\", \"Black\")\n    .style(\"stroke-width\", \"1px\")\n    .attr(\"font-family\", \"Helvetica\")\n    .call(d3.axisLeft(y).tickSize(0))\n    .select(\".domain\").remove();\n\n// Build color scale\nvar myColor = d3.scaleSequential()\n    .interpolator(d3.interpolateBlues)\n    .domain([1, 1]);\n\n\n\n// add the squares\nsvg.selectAll()\n    .data(data, d => d.x + ':' + d.y)\n    .join(\"rect\")\n    .attr(\"x\", d => x(d.x))\n    .attr(\"y\", d => y(d.y))\n    .attr(\"rx\", 4)\n    .attr(\"ry\", 4)\n    .attr(\"width\", x.bandwidth())\n    .attr(\"height\", y.bandwidth())\n    .style(\"fill\", d => myColor(d.z))\n    .style(\"stroke-width\", 4)\n    .style(\"stroke\", \"none\")\n    .style(\"opacity\", 0.7)\n    \n    \n    ;\n\n// add the grid\nif ( false) {\n    svg.selectAll()\n        .data(data, d => d.x + ':' + d.y)\n        .join(\"rect\")\n        .attr(\"x\", d => x(d.x))\n        .attr(\"y\", d => y(d.y))\n        .attr(\"rx\", 0)\n        .attr(\"ry\", 0)\n        .attr(\"width\", x.bandwidth())\n        .attr(\"height\", y.bandwidth())\n        .style(\"fill\", \"none\")\n        .style(\"stroke-width\", 1)\n        .style(\"stroke\", \"Gray\")\n        .style(\"opacity\", 1)\n}\n\n}) })(element);\n"
     },
     "execution_count": 3,
     "metadata": {},
     "output_type": "execute_result"
    }
   ],
   "source": [
    "#% js\n",
    "  use Math::SparseMatrix;\n",
    "  use Data::Reshapers;\n",
    "\n",
    "  my ($amat, $imat) = \n",
    "    Math::SparseMatrix.new(dense-matrix => $g.adjacency-matrix), \n",
    "    Math::SparseMatrix.new(dense-matrix => $g.incidence-matrix);\n",
    "  \n",
    "  my %opts = title-color => 'Silver', color-palette => 'Blues', :!tooltip, background => '#1F1F1F', height => 300;\n",
    "\n",
    "  ($amat.tuples(:dataset) \n",
    "  ==> {rename-columns($_, (<j i x> Z=> <x y z>).Hash)}()\n",
    "  ==> js-d3-matrix-plot(plot-label => 'Adjacency matrix', |%opts, width => 300+80, margins => {:2left, :40top, :2bottom, :80right}))\n",
    "  ~\n",
    "  ($imat.tuples(:dataset) \n",
    "  ==> {rename-columns($_, (<j i x> Z=> <x y z>).Hash)}()\n",
    "  ==> js-d3-matrix-plot(plot-label => 'Incidence matrix', |%opts, width => 600, margins => {:2left, :40top, :2bottom, :2right}))"
   ]
  }
 ],
 "metadata": {
  "kernelspec": {
   "display_name": "RakuChatbook",
   "language": "raku",
   "name": "raku"
  },
  "language_info": {
   "file_extension": ".raku",
   "mimetype": "text/x-raku",
   "name": "raku",
   "version": "6.d"
  }
 },
 "nbformat": 4,
 "nbformat_minor": 2
}
